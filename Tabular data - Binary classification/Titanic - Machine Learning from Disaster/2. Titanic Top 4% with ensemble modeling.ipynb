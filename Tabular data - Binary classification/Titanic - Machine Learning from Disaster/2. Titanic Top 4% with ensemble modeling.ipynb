{
 "cells": [
  {
   "cell_type": "markdown",
   "metadata": {},
   "source": [
    "# Titanic Top 4% with ensemble modeling\n",
    "\n",
    "- source: <https://www.kaggle.com/yassineghouzam/titanic-top-4-with-ensemble-modeling>"
   ]
  },
  {
   "cell_type": "code",
   "execution_count": null,
   "metadata": {},
   "outputs": [],
   "source": [
    "with zipfile.ZipFile(\"titanic.zip\", \"r\") as zipf:\n",
    "    with zipf.open(\"train.csv\") as f:\n",
    "        data = pd.read_csv(f)"
   ]
  }
 ],
 "metadata": {
  "interpreter": {
   "hash": "617bb93b2cba7a7d5da3cdc97e85f36e8c01d33b89623e5898d6d1574fb0a248"
  },
  "kernelspec": {
   "display_name": "Python 3.8.8 64-bit ('base': conda)",
   "name": "python3"
  },
  "language_info": {
   "codemirror_mode": {
    "name": "ipython",
    "version": 3
   },
   "file_extension": ".py",
   "mimetype": "text/x-python",
   "name": "python",
   "nbconvert_exporter": "python",
   "pygments_lexer": "ipython3",
   "version": "3.8.8"
  },
  "orig_nbformat": 4
 },
 "nbformat": 4,
 "nbformat_minor": 2
}
